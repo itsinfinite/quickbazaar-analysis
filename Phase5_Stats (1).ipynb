{
  "cells": [
    {
      "cell_type": "code",
      "execution_count": null,
      "id": "6f764675",
      "metadata": {
        "id": "6f764675"
      },
      "outputs": [],
      "source": [
        "\n",
        "import pandas as pd\n",
        "import numpy as np\n",
        "import scipy.stats as stats\n",
        "import statsmodels.api as sm\n",
        "import statsmodels.formula.api as smf\n",
        "\n",
        "# Loading cleaned datasets\n",
        "orders = pd.read_csv(\"orders_clean - Sheet1.csv\", parse_dates=['order_date'])\n",
        "delivery = pd.read_csv(\"delivery_clean - Sheet1.csv\")\n",
        "inventory = pd.read_csv(\"Inventry_clean - Sheet1.csv\")\n",
        "\n",
        "orders.head(), delivery.head(), inventory.head()\n"
      ]
    },
    {
      "cell_type": "code",
      "execution_count": null,
      "id": "a4c29acf",
      "metadata": {
        "id": "a4c29acf"
      },
      "outputs": [],
      "source": [
        "# corelation anfd delivery time\n",
        "delivery['distance_km'] = pd.to_numeric(delivery['distance_km'], errors='coerce')\n",
        "delivery['delivery_time_mins'] = pd.to_numeric(delivery['delivery_time_mins'], errors='coerce')\n",
        "delivery[['distance_km','delivery_time_mins']].corr()\n"
      ]
    },
    {
      "cell_type": "code",
      "execution_count": null,
      "id": "875dcfed",
      "metadata": {
        "id": "875dcfed"
      },
      "outputs": [],
      "source": [
        "# T test\n",
        "orders['revenue'] = pd.to_numeric(orders['revenue'], errors='coerce')\n",
        "aov_promo = orders.loc[orders['promo_flag']==True, 'revenue']\n",
        "aov_non  = orders.loc[orders['promo_flag']==False, 'revenue']\n",
        "stats.ttest_ind(aov_promo.dropna(), aov_non.dropna(), equal_var=False)\n"
      ]
    },
    {
      "cell_type": "code",
      "execution_count": null,
      "id": "4bb70764",
      "metadata": {
        "id": "4bb70764"
      },
      "outputs": [],
      "source": [
        "# chi test\n",
        "crosstab = pd.crosstab(delivery['slot'], delivery['late_flag'])\n",
        "chi2, p, dof, expected = stats.chi2_contingency(crosstab)\n",
        "chi2, p\n"
      ]
    }
  ],
  "metadata": {
    "colab": {
      "provenance": []
    }
  },
  "nbformat": 4,
  "nbformat_minor": 5
}