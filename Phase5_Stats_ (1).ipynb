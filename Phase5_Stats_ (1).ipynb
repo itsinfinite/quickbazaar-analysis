{
 "cells": [
  {
   "cell_type": "code",
   "execution_count": 1,
   "id": "85f0d26a",
   "metadata": {
    "id": "85f0d26a"
   },
   "outputs": [
    {
     "name": "stdout",
     "output_type": "stream",
     "text": [
      "ORDERS columns: ['CustomerID', 'Order Timestamp', 'AOV', 'CustomerRating', 'Feedback', 'Unnamed: 5', 'Average Customer Rating', 'Average AOV', 'Unnamed: 8', 'Month ', 'Average AOV.1', 'Average Customer Rating.1']\n",
      "DELIVERY columns: ['OrderID', 'RiderID', 'Time To Dispatch', 'Time In Transit', 'Delivery LocationPincode', 'Delivery Status ', 'Unnamed: 6', 'Average dispatch time ', 'Average transit time ', 'Unnamed: 9', 'Deliveries ', 'No. of deliveries']\n",
      "INVENTORY columns: ['Product Category', 'Week', 'Stockout Incidents', 'Unnamed: 3', 'Category ', 'Total ', 'Total stockout incidents', 'Unnamed: 7', 'Week ', 'Total stockouts ', 'Unnamed: 10', 'Week .1', 'Average stockout  incidents', 'Round ']\n"
     ]
    },
    {
     "data": {
      "text/plain": [
       "(  CustomerID   Order Timestamp      AOV  CustomerRating  \\\n",
       " 0  CUST_0120  2/1/2025 5:14:00  ₹479.94               3   \n",
       " 1  CUST_0001  2/1/2025 7:22:00  ₹638.46               5   \n",
       " 2  CUST_0090  2/1/2025 7:43:00  ₹425.61               5   \n",
       " \n",
       "                       Feedback  Unnamed: 5  Average Customer Rating  \\\n",
       " 0       Good quality products.         NaN                    3.663   \n",
       " 1         Loved the discounts.         NaN                      NaN   \n",
       " 2  Product quality acceptable.         NaN                      NaN   \n",
       " \n",
       "   Average AOV  Unnamed: 8  Month  Average AOV.1  Average Customer Rating.1  \n",
       " 0     ₹407.50         NaN     2.0       ₹415.13                   3.569536  \n",
       " 1         NaN         NaN     3.0       ₹409.15                   3.638418  \n",
       " 2         NaN         NaN     4.0       ₹416.06                   3.678161  ,\n",
       "     OrderID  RiderID  Time To Dispatch  Time In Transit  \\\n",
       " 0  ORD_0229  RID_008                 5               20   \n",
       " 1  ORD_0208  RID_006                 5               23   \n",
       " 2  ORD_0019  RID_003                 5               34   \n",
       " \n",
       "    Delivery LocationPincode Delivery Status  Unnamed: 6  \\\n",
       " 0                    255813          On-Time        NaN   \n",
       " 1                    777737          On-Time        NaN   \n",
       " 2                    688967          On-Time        NaN   \n",
       " \n",
       "    Average dispatch time   Average transit time   Unnamed: 9 Deliveries   \\\n",
       " 0                  17.504                 70.427         NaN     On-Time   \n",
       " 1                     NaN                    NaN         NaN        Late   \n",
       " 2                     NaN                    NaN         NaN         NaN   \n",
       " \n",
       "    No. of deliveries  \n",
       " 0              814.0  \n",
       " 1              186.0  \n",
       " 2                NaN  ,\n",
       "   Product Category    Week  Stockout Incidents  Unnamed: 3    Category   \\\n",
       " 0      Electronics  Week 1                   8         NaN  Electronics   \n",
       " 1        Groceries  Week 1                   8         NaN    Groceries   \n",
       " 2          Fashion  Week 1                   7         NaN      Fashion   \n",
       " \n",
       "    Total   Total stockout incidents  Unnamed: 7   Week   Total stockouts   \\\n",
       " 0     4.0                      19.0         NaN  week 1              49.0   \n",
       " 1     4.0                      13.0         NaN  week 2              43.0   \n",
       " 2     4.0                      24.0         NaN  week 3              35.0   \n",
       " \n",
       "    Unnamed: 10 Week .1  Average stockout  incidents  Round   \n",
       " 0          NaN  week 1                     5.444444    5.44  \n",
       " 1          NaN  week 2                     4.777778    4.77  \n",
       " 2          NaN  week 3                     3.888889    3.88  )"
      ]
     },
     "execution_count": 1,
     "metadata": {},
     "output_type": "execute_result"
    }
   ],
   "source": [
    "import pandas as pd\n",
    "\n",
    "orders = pd.read_csv(\"orders_clean - Sheet1.csv\")\n",
    "delivery = pd.read_csv(\"delivery_clean - Sheet1.csv\")\n",
    "inventory = pd.read_csv(\"Inventry_clean - Sheet1.csv\")\n",
    "\n",
    "print(\"ORDERS columns:\", list(orders.columns))\n",
    "print(\"DELIVERY columns:\", list(delivery.columns))\n",
    "print(\"INVENTORY columns:\", list(inventory.columns))\n",
    "\n",
    "orders.head(3), delivery.head(3), inventory.head(3)\n"
   ]
  },
  {
   "cell_type": "code",
   "execution_count": 2,
   "id": "235b3f86",
   "metadata": {
    "id": "235b3f86"
   },
   "outputs": [
    {
     "data": {
      "text/plain": [
       "{'orders': {'timestamp': 'Order Timestamp',\n",
       "  'customer_id': 'CustomerID',\n",
       "  'revenue': 'AOV',\n",
       "  'promo_flag': None,\n",
       "  'month': 'Month '},\n",
       " 'delivery': {'transit_time_mins': 'Average transit time ',\n",
       "  'dispatch_time_mins': 'Time To Dispatch',\n",
       "  'slot': None,\n",
       "  'zone': None,\n",
       "  'distance_km': None,\n",
       "  'late_flag': None},\n",
       " 'inventory': {'product_category': 'Product Category',\n",
       "  'week': 'Week',\n",
       "  'stockout_incidents': 'Stockout Incidents'}}"
      ]
     },
     "execution_count": 2,
     "metadata": {},
     "output_type": "execute_result"
    }
   ],
   "source": [
    "\n",
    "import numpy as np\n",
    "\n",
    "# === Parameters you can adjust ===\n",
    "\n",
    "\n",
    "def find_col(candidates, columns):\n",
    "    cols_low = {c.lower(): c for c in columns}\n",
    "    for cand in candidates:\n",
    "        for col in columns:\n",
    "            if cand in col.lower():\n",
    "                return col\n",
    "    return None\n",
    "\n",
    "# ORDERS mapping\n",
    "order_ts_col = find_col(['order timestamp','order_date','order time','timestamp'], orders.columns)\n",
    "customer_id_col = find_col(['customerid','customer id','cust_id'], orders.columns)\n",
    "revenue_col = find_col(['revenue','amount','order value','aov','total'], orders.columns)\n",
    "promo_col = find_col(['promo','promotion','coupon','offer'], orders.columns)\n",
    "month_col = find_col(['month'], orders.columns)\n",
    "\n",
    "# DELIVERY mapping\n",
    "transit_col = find_col(['transit time','delivery time','time to deliver','time to delivery','transit'], delivery.columns)\n",
    "dispatch_col = find_col(['time to dispatch','dispatch'], delivery.columns)\n",
    "slot_col = find_col(['slot','time slot','delivery slot'], delivery.columns)\n",
    "zone_col = find_col(['zone','area','region'], delivery.columns)\n",
    "distance_col = find_col(['distance'], delivery.columns)\n",
    "late_col = find_col(['late','delay','over sla'], delivery.columns)\n",
    "\n",
    "# INVENTORY mapping\n",
    "category_col = find_col(['product category','category'], inventory.columns)\n",
    "week_col = find_col(['week'], inventory.columns)\n",
    "stockout_col = find_col(['stockout incidents','stock out','stockout','oos'], inventory.columns)\n",
    "\n",
    "mapping = {\n",
    "    \"orders\": {\n",
    "        \"timestamp\": order_ts_col,\n",
    "        \"customer_id\": customer_id_col,\n",
    "        \"revenue\": revenue_col,\n",
    "        \"promo_flag\": promo_col,\n",
    "        \"month\": month_col,\n",
    "    },\n",
    "    \"delivery\": {\n",
    "        \"transit_time_mins\": transit_col,\n",
    "        \"dispatch_time_mins\": dispatch_col,\n",
    "        \"slot\": slot_col,\n",
    "        \"zone\": zone_col,\n",
    "        \"distance_km\": distance_col,\n",
    "        \"late_flag\": late_col,\n",
    "    },\n",
    "    \"inventory\": {\n",
    "        \"product_category\": category_col,\n",
    "        \"week\": week_col,\n",
    "        \"stockout_incidents\": stockout_col,\n",
    "    }\n",
    "}\n",
    "\n",
    "mapping\n"
   ]
  },
  {
   "cell_type": "code",
   "execution_count": 4,
   "id": "8837638e",
   "metadata": {
    "id": "8837638e"
   },
   "outputs": [
    {
     "data": {
      "text/plain": [
       "'Skipped (promo/coupon column not found).'"
      ]
     },
     "execution_count": 4,
     "metadata": {},
     "output_type": "execute_result"
    }
   ],
   "source": [
    "\n",
    "from scipy import stats\n",
    "ttest_output = \"Skipped (promo/coupon column not found).\"\n",
    "\n",
    "rev = mapping[\"orders\"][\"revenue\"]\n",
    "promo = mapping[\"orders\"][\"promo_flag\"]\n",
    "\n",
    "if rev and promo and rev in orders.columns and promo in orders.columns:\n",
    "\n",
    "    promo_series = orders[promo].astype(str).str.strip().str.lower().isin(['1','true','yes','y','promo','applied'])\n",
    "    a = pd.to_numeric(orders.loc[promo_series, rev], errors='coerce').dropna()\n",
    "    b = pd.to_numeric(orders.loc[~promo_series, rev], errors='coerce').dropna()\n",
    "    if len(a) > 2 and len(b) > 2:\n",
    "        ttest_output = stats.ttest_ind(a, b, equal_var=False)\n",
    "ttest_output\n"
   ]
  },
  {
   "cell_type": "markdown",
   "id": "d17abef3",
   "metadata": {
    "id": "d17abef3"
   },
   "source": [
    "## 3) Chi-Square — Late Deliveries vs Slot"
   ]
  },
  {
   "cell_type": "code",
   "execution_count": 5,
   "id": "ad6a4136",
   "metadata": {
    "id": "ad6a4136"
   },
   "outputs": [
    {
     "data": {
      "text/plain": [
       "'Skipped (slot or late_flag not found).'"
      ]
     },
     "execution_count": 5,
     "metadata": {},
     "output_type": "execute_result"
    }
   ],
   "source": [
    "\n",
    "chi_output = \"Skipped (slot or late_flag not found).\"\n",
    "slot = mapping[\"delivery\"][\"slot\"]\n",
    "late = mapping[\"delivery\"][\"late_flag\"]\n",
    "\n",
    "if slot and late and slot in delivery.columns and late in delivery.columns:\n",
    "    table = pd.crosstab(delivery[slot], delivery[late])\n",
    "    if table.shape[0] > 1 and table.shape[1] > 1:\n",
    "        chi2, p, dof, expected = stats.chi2_contingency(table)\n",
    "        chi_output = {\"chi2\": chi2, \"p\": p, \"dof\": dof}\n",
    "chi_output\n"
   ]
  },
  {
   "cell_type": "code",
   "execution_count": null,
   "id": "4094a4cb-2563-45b4-bd73-5281c0da9886",
   "metadata": {},
   "outputs": [],
   "source": []
  }
 ],
 "metadata": {
  "colab": {
   "provenance": []
  },
  "kernelspec": {
   "display_name": "Python 3 (ipykernel)",
   "language": "python",
   "name": "python3"
  },
  "language_info": {
   "codemirror_mode": {
    "name": "ipython",
    "version": 3
   },
   "file_extension": ".py",
   "mimetype": "text/x-python",
   "name": "python",
   "nbconvert_exporter": "python",
   "pygments_lexer": "ipython3",
   "version": "3.10.16"
  }
 },
 "nbformat": 4,
 "nbformat_minor": 5
}
