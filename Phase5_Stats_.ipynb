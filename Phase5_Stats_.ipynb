{
  "cells": [
    {
      "cell_type": "code",
      "execution_count": null,
      "id": "85f0d26a",
      "metadata": {
        "id": "85f0d26a"
      },
      "outputs": [],
      "source": [
        "import pandas as pd\n",
        "\n",
        "orders = pd.read_csv(\"orders_clean - Sheet1.csv\")\n",
        "delivery = pd.read_csv(\"delivery_clean - Sheet1.csv\")\n",
        "inventory = pd.read_csv(\"Inventry_clean - Sheet1.csv\")\n",
        "\n",
        "print(\"ORDERS columns:\", list(orders.columns))\n",
        "print(\"DELIVERY columns:\", list(delivery.columns))\n",
        "print(\"INVENTORY columns:\", list(inventory.columns))\n",
        "\n",
        "orders.head(3), delivery.head(3), inventory.head(3)\n"
      ]
    },
    {
      "cell_type": "code",
      "execution_count": null,
      "id": "235b3f86",
      "metadata": {
        "id": "235b3f86"
      },
      "outputs": [],
      "source": [
        "\n",
        "import numpy as np\n",
        "\n",
        "# === Parameters you can adjust ===\n",
        "\n",
        "\n",
        "def find_col(candidates, columns):\n",
        "    cols_low = {c.lower(): c for c in columns}\n",
        "    for cand in candidates:\n",
        "        for col in columns:\n",
        "            if cand in col.lower():\n",
        "                return col\n",
        "    return None\n",
        "\n",
        "# ORDERS mapping\n",
        "order_ts_col = find_col(['order timestamp','order_date','order time','timestamp'], orders.columns)\n",
        "customer_id_col = find_col(['customerid','customer id','cust_id'], orders.columns)\n",
        "revenue_col = find_col(['revenue','amount','order value','aov','total'], orders.columns)\n",
        "promo_col = find_col(['promo','promotion','coupon','offer'], orders.columns)\n",
        "month_col = find_col(['month'], orders.columns)\n",
        "\n",
        "# DELIVERY mapping\n",
        "transit_col = find_col(['transit time','delivery time','time to deliver','time to delivery','transit'], delivery.columns)\n",
        "dispatch_col = find_col(['time to dispatch','dispatch'], delivery.columns)\n",
        "slot_col = find_col(['slot','time slot','delivery slot'], delivery.columns)\n",
        "zone_col = find_col(['zone','area','region'], delivery.columns)\n",
        "distance_col = find_col(['distance'], delivery.columns)\n",
        "late_col = find_col(['late','delay','over sla'], delivery.columns)\n",
        "\n",
        "# INVENTORY mapping\n",
        "category_col = find_col(['product category','category'], inventory.columns)\n",
        "week_col = find_col(['week'], inventory.columns)\n",
        "stockout_col = find_col(['stockout incidents','stock out','stockout','oos'], inventory.columns)\n",
        "\n",
        "mapping = {\n",
        "    \"orders\": {\n",
        "        \"timestamp\": order_ts_col,\n",
        "        \"customer_id\": customer_id_col,\n",
        "        \"revenue\": revenue_col,\n",
        "        \"promo_flag\": promo_col,\n",
        "        \"month\": month_col,\n",
        "    },\n",
        "    \"delivery\": {\n",
        "        \"transit_time_mins\": transit_col,\n",
        "        \"dispatch_time_mins\": dispatch_col,\n",
        "        \"slot\": slot_col,\n",
        "        \"zone\": zone_col,\n",
        "        \"distance_km\": distance_col,\n",
        "        \"late_flag\": late_col,\n",
        "    },\n",
        "    \"inventory\": {\n",
        "        \"product_category\": category_col,\n",
        "        \"week\": week_col,\n",
        "        \"stockout_incidents\": stockout_col,\n",
        "    }\n",
        "}\n",
        "\n",
        "mapping\n"
      ]
    },
    {
      "cell_type": "code",
      "execution_count": null,
      "id": "1aca1f3e",
      "metadata": {
        "id": "1aca1f3e"
      },
      "outputs": [],
      "source": [
        "\n",
        "# Parse dates if available\n",
        "if mapping[\"orders\"][\"timestamp\"] is not None:\n",
        "    orders[mapping[\"orders\"][\"timestamp\"]] = pd.to_datetime(orders[mapping[\"orders\"][\"timestamp\"]], errors='coerce')\n",
        "\n",
        "# Numeric coercions\n",
        "def to_numeric(df, col):\n",
        "    if col is None or col not in df.columns:\n",
        "        return\n",
        "    df[col] = pd.to_numeric(df[col], errors='coerce')\n",
        "\n",
        "for col in [mapping[\"orders\"][\"revenue\"]]:\n",
        "    to_numeric(orders, col)\n",
        "\n",
        "for col in [mapping[\"delivery\"][\"transit_time_mins\"], mapping[\"delivery\"][\"dispatch_time_mins\"], mapping[\"delivery\"][\"distance_km\"]]:\n",
        "    to_numeric(delivery, col)\n",
        "\n",
        "# Construct late_flag from SLA if not present but transit time exists\n",
        "if mapping[\"delivery\"][\"late_flag\"] is None and mapping[\"delivery\"][\"transit_time_mins\"] is not None:\n",
        "    delivery['late_flag_auto'] = (delivery[mapping[\"delivery\"][\"transit_time_mins\"]] > SLA_MINUTES).astype(int)\n",
        "    mapping[\"delivery\"][\"late_flag\"] = 'late_flag_auto'\n",
        "\n",
        "# Derive month from timestamp if not present\n",
        "if mapping[\"orders\"][\"month\"] is None and mapping[\"orders\"][\"timestamp\"] is not None:\n",
        "    orders['Month'] = orders[mapping[\"orders\"][\"timestamp\"]].dt.to_period('M').astype(str)\n",
        "    mapping[\"orders\"][\"month\"] = 'Month'\n",
        "\n",
        "mapping\n"
      ]
    },
    {
      "cell_type": "code",
      "execution_count": null,
      "id": "8837638e",
      "metadata": {
        "id": "8837638e"
      },
      "outputs": [],
      "source": [
        "\n",
        "from scipy import stats\n",
        "ttest_output = \"Skipped (promo/coupon column not found).\"\n",
        "\n",
        "rev = mapping[\"orders\"][\"revenue\"]\n",
        "promo = mapping[\"orders\"][\"promo_flag\"]\n",
        "\n",
        "if rev and promo and rev in orders.columns and promo in orders.columns:\n",
        "\n",
        "    promo_series = orders[promo].astype(str).str.strip().str.lower().isin(['1','true','yes','y','promo','applied'])\n",
        "    a = pd.to_numeric(orders.loc[promo_series, rev], errors='coerce').dropna()\n",
        "    b = pd.to_numeric(orders.loc[~promo_series, rev], errors='coerce').dropna()\n",
        "    if len(a) > 2 and len(b) > 2:\n",
        "        ttest_output = stats.ttest_ind(a, b, equal_var=False)\n",
        "ttest_output\n"
      ]
    },
    {
      "cell_type": "markdown",
      "id": "d17abef3",
      "metadata": {
        "id": "d17abef3"
      },
      "source": [
        "## 3) Chi-Square — Late Deliveries vs Slot"
      ]
    },
    {
      "cell_type": "code",
      "execution_count": null,
      "id": "ad6a4136",
      "metadata": {
        "id": "ad6a4136"
      },
      "outputs": [],
      "source": [
        "\n",
        "chi_output = \"Skipped (slot or late_flag not found).\"\n",
        "slot = mapping[\"delivery\"][\"slot\"]\n",
        "late = mapping[\"delivery\"][\"late_flag\"]\n",
        "\n",
        "if slot and late and slot in delivery.columns and late in delivery.columns:\n",
        "    table = pd.crosstab(delivery[slot], delivery[late])\n",
        "    if table.shape[0] > 1 and table.shape[1] > 1:\n",
        "        chi2, p, dof, expected = stats.chi2_contingency(table)\n",
        "        chi_output = {\"chi2\": chi2, \"p\": p, \"dof\": dof}\n",
        "chi_output\n"
      ]
    }
  ],
  "metadata": {
    "colab": {
      "provenance": []
    }
  },
  "nbformat": 4,
  "nbformat_minor": 5
}